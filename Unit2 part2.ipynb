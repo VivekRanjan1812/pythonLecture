{
 "cells": [
  {
   "cell_type": "code",
   "execution_count": 3,
   "metadata": {},
   "outputs": [
    {
     "name": "stdout",
     "output_type": "stream",
     "text": [
      "10\n"
     ]
    }
   ],
   "source": [
    "# main file\n",
    "x = 10 #global variable\n",
    "def outer_function():\n",
    "    x = 20 # Enclosing variable\n",
    "    def inner_function():\n",
    "        x = 30#LOcal variable\n",
    "        print(x)\n",
    "        inner_function()\n",
    "        print(x) # output: 20\n",
    "outer_function()\n",
    "print(x) #output: 10        \n",
    "        "
   ]
  },
  {
   "cell_type": "code",
   "execution_count": 1,
   "metadata": {},
   "outputs": [],
   "source": [
    "def double(x):\n",
    "    \n",
    "    return x * 2\n",
    "def triple(x):\n",
    "    return x * 3\n"
   ]
  },
  {
   "cell_type": "code",
   "execution_count": 6,
   "metadata": {},
   "outputs": [
    {
     "name": "stdout",
     "output_type": "stream",
     "text": [
      "8\n"
     ]
    }
   ],
   "source": [
    "#lambda function \n",
    "add =(lambda a, b: a + b )\n",
    "print(add(3,5))"
   ]
  },
  {
   "cell_type": "code",
   "execution_count": 3,
   "metadata": {},
   "outputs": [
    {
     "name": "stdout",
     "output_type": "stream",
     "text": [
      "6\n"
     ]
    }
   ],
   "source": [
    "##write a function to multiply three numbers and return its result. 1st use normal function then use lambda function.\n",
    "\n",
    "\n",
    "#lambda function\n",
    "multi = lambda a,b,c : a*b*c\n",
    "print(multi(1,2,3))\n"
   ]
  },
  {
   "cell_type": "code",
   "execution_count": 4,
   "metadata": {},
   "outputs": [
    {
     "data": {
      "text/plain": [
       "6"
      ]
     },
     "execution_count": 4,
     "metadata": {},
     "output_type": "execute_result"
    }
   ],
   "source": [
    "#using normal function\n",
    "def multi(a,b,c):\n",
    "    multiply=a*b*c\n",
    "    return multiply\n",
    "multi(1,2,3)\n"
   ]
  },
  {
   "cell_type": "code",
   "execution_count": 5,
   "metadata": {},
   "outputs": [
    {
     "ename": "SyntaxError",
     "evalue": "(unicode error) 'unicodeescape' codec can't decode bytes in position 2-3: truncated \\UXXXXXXXX escape (1864289423.py, line 9)",
     "output_type": "error",
     "traceback": [
      "\u001b[1;36m  Cell \u001b[1;32mIn[5], line 9\u001b[1;36m\u001b[0m\n\u001b[1;33m    address = \"C:\\Users\\ASUS\\Desktop\\python\\pythonLecture\"\u001b[0m\n\u001b[1;37m              ^\u001b[0m\n\u001b[1;31mSyntaxError\u001b[0m\u001b[1;31m:\u001b[0m (unicode error) 'unicodeescape' codec can't decode bytes in position 2-3: truncated \\UXXXXXXXX escape\n"
     ]
    }
   ],
   "source": [
    "# 9/12/2024\n",
    "# write a program that takes directory address from user and returns a list of file names. we can use nos module to perform these actions    \n",
    "\n",
    "\n",
    "import os\n",
    "help(os)\n",
    "\n",
    "address = input(\"Enter location\")\n",
    "address = \"C:\\Users\\ASUS\\Desktop\\python\\pythonLecture\""
   ]
  },
  {
   "cell_type": "code",
   "execution_count": 4,
   "metadata": {},
   "outputs": [
    {
     "ename": "NameError",
     "evalue": "name 'address' is not defined",
     "output_type": "error",
     "traceback": [
      "\u001b[1;31m---------------------------------------------------------------------------\u001b[0m",
      "\u001b[1;31mNameError\u001b[0m                                 Traceback (most recent call last)",
      "Cell \u001b[1;32mIn[4], line 1\u001b[0m\n\u001b[1;32m----> 1\u001b[0m os\u001b[38;5;241m.\u001b[39mchdir(\u001b[43maddress\u001b[49m)\n\u001b[0;32m      3\u001b[0m list_of_files \u001b[38;5;241m=\u001b[39m os\u001b[38;5;241m.\u001b[39mlistdir()\n\u001b[0;32m      4\u001b[0m list_of_files\n",
      "\u001b[1;31mNameError\u001b[0m: name 'address' is not defined"
     ]
    }
   ],
   "source": [
    "os.chdir(address)\n",
    "\n",
    "list_of_files = os.listdir()\n",
    "list_of_files"
   ]
  },
  {
   "cell_type": "code",
   "execution_count": 6,
   "metadata": {},
   "outputs": [
    {
     "data": {
      "text/plain": [
       "['123@stu.upes.ac.in']"
      ]
     },
     "execution_count": 6,
     "metadata": {},
     "output_type": "execute_result"
    }
   ],
   "source": [
    "#Write a function that generates a list of email using sapid\n",
    "#Generate email address using sap id\n",
    "#sapid\n",
    "#123456789\n",
    "#email\n",
    "#123456789@stu.upes.ac.in\n",
    "#using\n",
    "#1. functions/for loop\n",
    "#2. map/filter and lambda\n",
    "\n",
    "sapids = [123, 12345, 12345678]\n",
    "def id2email (id):\n",
    "    return str(id) + \"@stu.upes.ac.in\"\n",
    "\n",
    "def sapids_to_emails(sapids):\n",
    "    emails = []\n",
    "    for id in sapids:\n",
    "        email = id2email(id)\n",
    "        emails.append(email)\n",
    "        \n",
    "        return emails\n",
    "    \n",
    "list_of_emails = sapids_to_emails(sapids)\n",
    "list_of_emails    \n"
   ]
  },
  {
   "cell_type": "code",
   "execution_count": 7,
   "metadata": {},
   "outputs": [
    {
     "data": {
      "text/plain": [
       "<map at 0x20ab99bd810>"
      ]
     },
     "execution_count": 7,
     "metadata": {},
     "output_type": "execute_result"
    }
   ],
   "source": [
    "#Write a function that generates a list of email using sapid\n",
    "#Generate email address using sap id\n",
    "#sapid\n",
    "#123456789\n",
    "#email\n",
    "#123456789@stu.upes.ac.in\n",
    "#using\n",
    "#1. functions/for loop\n",
    "#2. map/filter and lambda\n",
    "\n",
    "sapids = [123, 12345, 12345678]\n",
    "def id2email (id):\n",
    "    return str(id) + \"@stu.upes.ac.in\"\n",
    "    emails = []\n",
    "    for id in sapids:\n",
    "        email = id2email(id)\n",
    "        emails.append(email)\n",
    "        \n",
    "        return emails\n",
    "    \n",
    "list_of_emails = map(id2email,sapids)\n",
    "list_of_emails    \n"
   ]
  },
  {
   "cell_type": "code",
   "execution_count": 2,
   "metadata": {},
   "outputs": [
    {
     "ename": "SyntaxError",
     "evalue": "invalid syntax (3428748349.py, line 2)",
     "output_type": "error",
     "traceback": [
      "\u001b[1;36m  Cell \u001b[1;32mIn[2], line 2\u001b[1;36m\u001b[0m\n\u001b[1;33m    list_of_emails= list_of_emails = list(map(lambda))\u001b[0m\n\u001b[1;37m                                                    ^\u001b[0m\n\u001b[1;31mSyntaxError\u001b[0m\u001b[1;31m:\u001b[0m invalid syntax\n"
     ]
    }
   ],
   "source": [
    "sapids = [1234,234567,3456,4545]\n",
    "list_of_emails= list_of_emails = list(map(lambda))"
   ]
  },
  {
   "cell_type": "code",
   "execution_count": 5,
   "metadata": {},
   "outputs": [
    {
     "ename": "FileNotFoundError",
     "evalue": "[WinError 3] The system cannot find the path specified: ''",
     "output_type": "error",
     "traceback": [
      "\u001b[1;31m---------------------------------------------------------------------------\u001b[0m",
      "\u001b[1;31mFileNotFoundError\u001b[0m                         Traceback (most recent call last)",
      "Cell \u001b[1;32mIn[5], line 50\u001b[0m\n\u001b[0;32m     48\u001b[0m \u001b[38;5;66;03m# Example usage\u001b[39;00m\n\u001b[0;32m     49\u001b[0m directory \u001b[38;5;241m=\u001b[39m \u001b[38;5;28minput\u001b[39m(\u001b[38;5;124m\"\u001b[39m\u001b[38;5;124mEnter the directory path: \u001b[39m\u001b[38;5;124m\"\u001b[39m)\n\u001b[1;32m---> 50\u001b[0m \u001b[43morganize_files_by_extension\u001b[49m\u001b[43m(\u001b[49m\u001b[43mdirectory\u001b[49m\u001b[43m)\u001b[49m\n",
      "Cell \u001b[1;32mIn[5], line 24\u001b[0m, in \u001b[0;36morganize_files_by_extension\u001b[1;34m(directory)\u001b[0m\n\u001b[0;32m     21\u001b[0m         os\u001b[38;5;241m.\u001b[39mmakedirs(folder_path)\n\u001b[0;32m     23\u001b[0m \u001b[38;5;66;03m# Move files into appropriate folders\u001b[39;00m\n\u001b[1;32m---> 24\u001b[0m \u001b[38;5;28;01mfor\u001b[39;00m filename \u001b[38;5;129;01min\u001b[39;00m \u001b[43mos\u001b[49m\u001b[38;5;241;43m.\u001b[39;49m\u001b[43mlistdir\u001b[49m\u001b[43m(\u001b[49m\u001b[43mdirectory\u001b[49m\u001b[43m)\u001b[49m:\n\u001b[0;32m     25\u001b[0m     file_path \u001b[38;5;241m=\u001b[39m os\u001b[38;5;241m.\u001b[39mpath\u001b[38;5;241m.\u001b[39mjoin(directory, filename)\n\u001b[0;32m     27\u001b[0m     \u001b[38;5;66;03m# Skip directories\u001b[39;00m\n",
      "\u001b[1;31mFileNotFoundError\u001b[0m: [WinError 3] The system cannot find the path specified: ''"
     ]
    }
   ],
   "source": [
    "#write a function that takes dir address from user and organize files on that folder in to following categories as given below\n",
    " \n",
    "import os\n",
    "\n",
    "| Folder | Extension|\n",
    "|---|---|\n",
    "|Videos| mpg.mkv|\n",
    "|Images\n",
    " \n",
    " \n"
   ]
  },
  {
   "cell_type": "code",
   "execution_count": 9,
   "metadata": {},
   "outputs": [],
   "source": [
    "import os \n",
    "\n",
    "#to creat  directory\n",
    "address = input(\"Enter Location\")\n",
    "os.chdir(address)\n",
    "os.mkdir(\"VIDEOS\")\n",
    "os.mkdir(\"AUDIOS\")\n",
    "os.mkdir(\"DOCS\")\n",
    "\n",
    "list_of=os. listdir()\n",
    "list_of\n",
    "\n"
   ]
  },
  {
   "cell_type": "code",
   "execution_count": 13,
   "metadata": {},
   "outputs": [
    {
     "name": "stdout",
     "output_type": "stream",
     "text": [
      "user input: bitch\n",
      "user input: bitch\n",
      "user input: bitch\n"
     ]
    }
   ],
   "source": [
    "import tkinter as tk\n",
    "root = tk.Tk()\n",
    "root.title(\"my first tk file\")\n",
    "root.geometry(\"300x150\")\n",
    "def show_input():\n",
    "    user_input = entry.get()\n",
    "    print(\"user input:\", user_input)\n",
    "label = tk.Label(root, text=\"Enter something:\")\n",
    "label.pack(pady=10)\n",
    "entry = tk.Entry(root, width=30)\n",
    "entry.pack(pady=5)\n",
    "button = tk.Button(root, text=\"submit\", command=show_input)\n",
    "button.pack(pady=10)\n",
    "\n",
    "root.mainloop()"
   ]
  },
  {
   "cell_type": "code",
   "execution_count": 18,
   "metadata": {},
   "outputs": [],
   "source": [
    "import os\n",
    "import tkinter as tk\n",
    "\n",
    "\n",
    "\n",
    "def organize_files(directory):\n",
    "    \n",
    "    is_windows = os.name == 'nt'\n",
    "    \n",
    "   \n",
    "    file_types = {\n",
    "        'Videos': ['.mp4', '.mkv', '.avi', '.mov'],\n",
    "        'Audios': ['.mp3', '.wav', '.aac', '.flac'],\n",
    "        'Images': ['.jpg', '.jpeg', '.png', '.gif', '.bmp'],\n",
    "        'Documents': ['.pdf', '.doc', '.docx', '.xls', '.xlsx', '.ppt', '.pptx', '.txt'],\n",
    "        'Misc': []\n",
    "    }\n",
    "    \n",
    " \n",
    "    for folder in file_types.keys():\n",
    "        folder_path = os.path.join(directory, folder)\n",
    "        if not os.path.exists(folder_path):\n",
    "            os.makedirs(folder_path)\n",
    "    \n",
    "    \n",
    "    for file_name in os.listdir(directory):\n",
    "        file_path = os.path.join(directory, file_name)\n",
    "        \n",
    "        \n",
    "        if os.path.isdir(file_path):\n",
    "            continue\n",
    "        \n",
    "        \n",
    "        file_extension = os.path.splitext(file_name)[1].lower()\n",
    "        \n",
    "        # Find the appropriate category for the file\n",
    "        moved = False\n",
    "        for folder, extensions in file_types.items():\n",
    "            if file_extension in extensions:\n",
    "                # Move the file to the corresponding folder\n",
    "                destination = os.path.join(directory, folder, file_name)\n",
    "                \n",
    "                # Check if file already exists at the destination\n",
    "                if not os.path.exists(destination):\n",
    "                    if is_windows:\n",
    "                        os.system(f'move \"{file_path}\" \"{destination}\"')\n",
    "                    else:\n",
    "                        os.system(f'mv \"{file_path}\" \"{destination}\"')\n",
    "                moved = True\n",
    "                break\n",
    "        \n",
    "        # If no matching category is found, move to the 'Misc' folder\n",
    "        if not moved:\n",
    "            misc_destination = os.path.join(directory, 'Misc', file_name)\n",
    "            if not os.path.exists(misc_destination):\n",
    "                if is_windows:\n",
    "                    os.system(f'move \"{file_path}\" \"{misc_destination}\"')\n",
    "                else:\n",
    "                    os.system(f'mv \"{file_path}\" \"{misc_destination}\"')\n",
    "    \n",
    "    print(\"Files have been organized!\")\n",
    "def show_input():\n",
    "    user_input = entry.get()\n",
    "    \n",
    "    \n",
    "    if os.path.exists(user_input):\n",
    "        organize_files(user_input)\n",
    "        label2.config(text=\"Files have been organized!\")\n",
    "    else:\n",
    "        label2.config(text=\"Invalid directory path!\")\n",
    "\n",
    "\n",
    "\n",
    "root = tk.Tk()\n",
    "root.title(\"File Organizer\")\n",
    "\n",
    "\n",
    "root.geometry(\"300x200\")\n",
    "\n",
    "\n",
    "label = tk.Label(root, text=\"File Organizer\", font=(\"Helvetica\", 16))\n",
    "label.pack(pady=10)\n",
    "entry = tk.Entry(root, width=30)\n",
    "entry.pack(pady=5)\n",
    "button = tk.Button(root, text=\"Organize\", command=show_input)\n",
    "button.pack(pady=10)\n",
    "label2 = tk.Label(root, text=\"\")\n",
    "label2.pack(pady=10)\n",
    "root.mainloop()"
   ]
  },
  {
   "cell_type": "code",
   "execution_count": null,
   "metadata": {},
   "outputs": [],
   "source": []
  }
 ],
 "metadata": {
  "kernelspec": {
   "display_name": "Python 3",
   "language": "python",
   "name": "python3"
  },
  "language_info": {
   "codemirror_mode": {
    "name": "ipython",
    "version": 3
   },
   "file_extension": ".py",
   "mimetype": "text/x-python",
   "name": "python",
   "nbconvert_exporter": "python",
   "pygments_lexer": "ipython3",
   "version": "3.12.5"
  }
 },
 "nbformat": 4,
 "nbformat_minor": 2
}
