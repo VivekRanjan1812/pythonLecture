{
 "cells": [
  {
   "cell_type": "markdown",
   "id": "6db554b3-661f-4e75-a953-bb2320bfa64e",
   "metadata": {},
   "source": [
    "# Python Assignment 1\n",
    "\n"
   ]
  },
  {
   "cell_type": "markdown",
   "id": "c7b46f18-30b2-48ce-a6f7-4f085428e9dd",
   "metadata": {},
   "source": [
    "## Introduction to Python Basic and Syntax"
   ]
  },
  {
   "cell_type": "markdown",
   "id": "5aad960e-d65a-4aea-a91e-9c5435a01746",
   "metadata": {},
   "source": [
    "### Question1:  Write a Python script that prints your name, course name, and the Python version you're using.\n"
   ]
  },
  {
   "attachments": {
    "91a4f367-8a55-4294-bea0-53e2edf65bb4.png": {
     "image/png": "[encoded data removed]"
    }
   },
   "cell_type": "markdown",
   "id": "d6bed5dd-1ee0-4e06-bf9e-c71108a6d1ee",
   "metadata": {},
   "source": [
    "![Screenshot 2024-09-01 123941.png](attachment:91a4f367-8a55-4294-bea0-53e2edf65bb4.png)"
   ]
  },
  {
   "attachments": {
    "91e1c2dc-1487-40b0-9051-a40ec8bc195c.png": {
     "image/png": "[encoded data removed]"
    }
   },
   "cell_type": "markdown",
   "id": "1238c41c-c397-4824-b372-402c3551705f",
   "metadata": {},
   "source": [
    "![Screenshot 2024-09-01 124139.png](attachment:91e1c2dc-1487-40b0-9051-a40ec8bc195c.png)"
   ]
  },
  {
   "cell_type": "markdown",
   "id": "c58a999c-4b90-43eb-b86e-8bd631e5147c",
   "metadata": {},
   "source": [
    "### Question2: Open IDLE and write a Python script that prints \"Hello, Python World!\".\n",
    "### Save the script as hello.py and execute it using IDLE."
   ]
  },
  {
   "cell_type": "code",
   "execution_count": 15,
   "id": "7bd8ddcd-5745-4fae-80af-64ec8330f496",
   "metadata": {},
   "outputs": [
    {
     "name": "stdout",
     "output_type": "stream",
     "text": [
      "Hello, Python World!\n"
     ]
    }
   ],
   "source": [
    "print (\"Hello, Python World!\")"
   ]
  },
  {
   "cell_type": "markdown",
   "id": "542648d5-58ba-4cfc-a6ba-34f8cbf8f727",
   "metadata": {},
   "source": [
    "### Question3: Write a Python program that takes a user's first and last name as input and prints them in reverse order with a space between them. Use at least two string methods and explain their purpose in the comments."
   ]
  },
  {
   "cell_type": "code",
   "execution_count": 19,
   "id": "fe8a23a2-b0bc-42b0-8de6-b33eb8ef700b",
   "metadata": {},
   "outputs": [
    {
     "name": "stdin",
     "output_type": "stream",
     "text": [
      "Enter your first name:  vivek\n",
      "Enter your last name:  ranjan\n"
     ]
    },
    {
     "name": "stdout",
     "output_type": "stream",
     "text": [
      "Ranjan Vivek\n"
     ]
    }
   ],
   "source": [
    "# Taking first and last name as input from the user\n",
    "first_name = input(\"Enter your first name: \")\n",
    "last_name = input(\"Enter your last name: \")\n",
    "\n",
    "# Using the strip() method to remove any extra unwanted whitespace.\n",
    "first_name = first_name.strip()\n",
    "last_name = last_name.strip()\n",
    "\n",
    "# using capitalize method to make sure the first letter of the name is capital.\n",
    "first_name = first_name.capitalize()\n",
    "last_name = last_name.capitalize()\n",
    "\n",
    "# Printing the name in reverse order with a space in between them.\n",
    "print(last_name + \" \" + first_name)\n"
   ]
  },
  {
   "cell_type": "markdown",
   "id": "80e36add-af04-4f5b-9a10-cb7271ba2fa9",
   "metadata": {},
   "source": [
    "### Question4:  Write a Python program that takes an input number from the user, converts it to different numeric data types (integer, float, and complex), and displays the converted values. Explain the difference between these data types in comments."
   ]
  },
  {
   "cell_type": "code",
   "execution_count": 23,
   "id": "fd6b76f2-ab41-4f8b-96b3-fc4f1f317867",
   "metadata": {},
   "outputs": [
    {
     "name": "stdin",
     "output_type": "stream",
     "text": [
      "Enter a number:  69\n"
     ]
    },
    {
     "name": "stdout",
     "output_type": "stream",
     "text": [
      "Integer value: 69\n",
      "Float value: 69.0\n",
      "Complex value: (69+0j)\n"
     ]
    }
   ],
   "source": [
    "# taking input from user\n",
    "user_input = input(\"Enter a number: \")\n",
    "\n",
    "# Converting input to different  numeric datatypes\n",
    "# to integer\n",
    "int_value = int(float(user_input)) \n",
    "# to float\n",
    "float_value = float(user_input)\n",
    "# to complex number\n",
    "complex_value = complex(user_input)\n",
    "\n",
    "# Printing the converted values\n",
    "print(f\"Integer value: {int_value}\")\n",
    "print(f\"Float value: {float_value}\")\n",
    "print(f\"Complex value: {complex_value}\")\n",
    "\n",
    "# Explanation of different numeric data types:\n",
    "\n",
    "# Integer (int): used to represent whole numbers e.g., 10, -5\n",
    "\n",
    "# Float (float): used to represent numbers with decimal points, e.g., 10.5, -3.14\n",
    "\n",
    "# Complex (complex): used to specify imaginary literals by appending a “j” (e.g., 3 + 2j). \n"
   ]
  },
  {
   "cell_type": "markdown",
   "id": "c7310438-e9fd-4728-b395-cd6440b1d269",
   "metadata": {},
   "source": [
    "### Question5: Create a Python script that calculates the area of a rectangle. The script should:\n",
    "#### Prompt the user to enter the length and width of the rectangle.\n",
    "#### Calculate the area.\n",
    "#### Display the result using the print function."
   ]
  },
  {
   "cell_type": "code",
   "execution_count": 26,
   "id": "59500257-5dbb-48f0-8234-1fc016868314",
   "metadata": {},
   "outputs": [
    {
     "name": "stdin",
     "output_type": "stream",
     "text": [
      "Enter the length of the rectangle:  69.2\n",
      "Enter the width of the rectangle:  45.9\n"
     ]
    },
    {
     "name": "stdout",
     "output_type": "stream",
     "text": [
      "The area of the rectangle is: 3176.28\n"
     ]
    }
   ],
   "source": [
    "# Taking input from user for length and width of the rectangle\n",
    "length = float(input(\"Enter the length of the rectangle: \"))\n",
    "width = float(input(\"Enter the width of the rectangle: \"))\n",
    "\n",
    "# Calculate the area of the rectangle\n",
    "area = length * width\n",
    "\n",
    "# Printing the area of rectangle\n",
    "print(f\"The area of the rectangle is: {area}\")\n"
   ]
  },
  {
   "cell_type": "markdown",
   "id": "e2c74a1a-8c6e-4ddd-82a3-0db907c81c97",
   "metadata": {},
   "source": [
    "#### Modify the rectangle area program to format the output so that it displays the area with two decimal places.\n"
   ]
  },
  {
   "cell_type": "code",
   "execution_count": 31,
   "id": "139fa5fd-0e77-401c-8807-a9395ab975fe",
   "metadata": {},
   "outputs": [
    {
     "name": "stdout",
     "output_type": "stream",
     "text": [
      "The area of the rectangle is: 3166.80\n"
     ]
    }
   ],
   "source": [
    "print(f\"The area of the rectangle is: {area:.2f}\")"
   ]
  },
  {
   "cell_type": "markdown",
   "id": "2af2958a-a84a-4a9d-b073-d32f5953743d",
   "metadata": {},
   "source": [
    "### Question6: Write a Python script that takes three numbers as input and prints their average using the formatting. % method for string. Also, use the print function to display a message that states, \"The average of the three numbers is: [calculated average]\"."
   ]
  },
  {
   "cell_type": "code",
   "execution_count": 34,
   "id": "5276298c-b239-416b-92e6-8306562c0381",
   "metadata": {},
   "outputs": [
    {
     "name": "stdin",
     "output_type": "stream",
     "text": [
      "Enter the first number:  10\n",
      "Enter the second number:  20\n",
      "Enter the third number:  30\n"
     ]
    },
    {
     "name": "stdout",
     "output_type": "stream",
     "text": [
      "The average of the three numbers is: 20.00\n"
     ]
    }
   ],
   "source": [
    "# Asking user to enter three numbers\n",
    "num1 = float(input(\"Enter the first number: \"))\n",
    "num2 = float(input(\"Enter the second number: \"))\n",
    "num3 = float(input(\"Enter the third number: \"))\n",
    "\n",
    "# average of the three numbers\n",
    "average = (num1 + num2 + num3) / 3\n",
    "\n",
    "# printing the result using % formatting and displaying the message\n",
    "print(\"The average of the three numbers is: %.2f\" % average)\n"
   ]
  },
  {
   "cell_type": "markdown",
   "id": "19fa1719-e04e-4389-9916-fbbe85242d37",
   "metadata": {},
   "source": [
    "### Question8 : Write a python program that asks the user for a number and determines whether it is positive, negative, or zero."
   ]
  },
  {
   "cell_type": "code",
   "execution_count": 41,
   "id": "7167f61e-c4ee-451b-8be7-127f5ce55ba8",
   "metadata": {},
   "outputs": [
    {
     "name": "stdin",
     "output_type": "stream",
     "text": [
      "Enter a number (or type 'exit' to quit):  1\n"
     ]
    },
    {
     "name": "stdout",
     "output_type": "stream",
     "text": [
      "The number is positive.\n"
     ]
    },
    {
     "name": "stdin",
     "output_type": "stream",
     "text": [
      "Enter a number (or type 'exit' to quit):  0\n"
     ]
    },
    {
     "name": "stdout",
     "output_type": "stream",
     "text": [
      "The number is zero.\n"
     ]
    },
    {
     "name": "stdin",
     "output_type": "stream",
     "text": [
      "Enter a number (or type 'exit' to quit):  -1\n"
     ]
    },
    {
     "name": "stdout",
     "output_type": "stream",
     "text": [
      "The number is negative.\n"
     ]
    },
    {
     "name": "stdin",
     "output_type": "stream",
     "text": [
      "Enter a number (or type 'exit' to quit):  exit\n"
     ]
    },
    {
     "name": "stdout",
     "output_type": "stream",
     "text": [
      "Exiting the program.\n"
     ]
    }
   ],
   "source": [
    "# asking user to enter number as an input to determine whether it is positive, negative, or zero\n",
    "while True:\n",
    "    user_input = input(\"Enter a number (or type 'exit' to quit): \")\n",
    "\n",
    "    if user_input.lower() == 'exit':\n",
    "        print(\"Exiting the program.\")\n",
    "        break\n",
    "\n",
    "    # coverting input into float datatype\n",
    "    try:\n",
    "        number = float(user_input)\n",
    "        \n",
    "        # Checking if the number is positive, negitive, or zero\n",
    "        if number > 0:\n",
    "            print(\"The number is positive.\")\n",
    "        elif number < 0:\n",
    "            print(\"The number is negative.\")\n",
    "        else:\n",
    "            print(\"The number is zero.\")\n",
    "    except ValueError:\n",
    "        print(\"Invalid input. Please enter a valid number or type 'exit' to quit.\")\n"
   ]
  },
  {
   "cell_type": "markdown",
   "id": "03c0906d-2f04-4f7f-ba87-af0c259b8a76",
   "metadata": {},
   "source": [
    "### Question9 : Create a Python script that takes two numbers as input and prints whether both numbers are even, odd, or one of each using relational and logical operators."
   ]
  },
  {
   "cell_type": "code",
   "execution_count": 45,
   "id": "cfb332b4-2e63-428f-bdcb-ed8908aacdba",
   "metadata": {},
   "outputs": [
    {
     "name": "stdin",
     "output_type": "stream",
     "text": [
      "Enter the first number:  1\n",
      "Enter the second number:  2\n"
     ]
    },
    {
     "name": "stdout",
     "output_type": "stream",
     "text": [
      "One number is even and the other is odd.\n"
     ]
    }
   ],
   "source": [
    "# Program to check if two numbers are both even, both odd, or one of each\n",
    "\n",
    "# Function to check if a number is even\n",
    "def is_even(number):\n",
    "    return number % 2 == 0\n",
    "\n",
    "# Function to check if a number is odd\n",
    "def is_odd(number):\n",
    "    return number % 2 != 0\n",
    "\n",
    "# Prompt the user to enter two numbers\n",
    "num1 = float(input(\"Enter the first number: \"))\n",
    "num2 = float(input(\"Enter the second number: \"))\n",
    "\n",
    "# nature of the numbers using logical operators\n",
    "if is_even(num1) and is_even(num2):\n",
    "    print(\"Both numbers are even.\")\n",
    "elif is_odd(num1) and is_odd(num2):\n",
    "    print(\"Both numbers are odd.\")\n",
    "else:\n",
    "    print(\"One number is even and the other is odd.\")\n"
   ]
  },
  {
   "cell_type": "markdown",
   "id": "c950b334-5d6c-4061-8668-88291433aa7d",
   "metadata": {},
   "source": [
    "### Question10 : Write aPython program that takes an integer input and prints its binary, octal, and hexadecimal equivalents using a lot for loop and bitwise operators."
   ]
  },
  {
   "cell_type": "code",
   "execution_count": 48,
   "id": "5f9e34ec-0a5a-403f-8bfc-6bde98d4a835",
   "metadata": {},
   "outputs": [
    {
     "name": "stdin",
     "output_type": "stream",
     "text": [
      "Enter an integer:  45\n"
     ]
    },
    {
     "name": "stdout",
     "output_type": "stream",
     "text": [
      "Binary representation: 101101\n",
      "Octal representation: 55\n",
      "Hexadecimal representation: 2D\n"
     ]
    }
   ],
   "source": [
    "# Program to convert an integer to binary, octal, and hexadecimal representations\n",
    "\n",
    "# Function to convert integer to binary representation\n",
    "def int_to_binary(n):\n",
    "    if n == 0:\n",
    "        return \"0\"\n",
    "    binary_rep = \"\"\n",
    "    while n > 0:\n",
    "        binary_rep = str(n & 1) + binary_rep  # Append the least significant bit\n",
    "        n >>= 1  # Right shift by 1 bit\n",
    "    return binary_rep\n",
    "\n",
    "# Function to convert integer to octal representation\n",
    "def int_to_octal(n):\n",
    "    if n == 0:\n",
    "        return \"0\"\n",
    "    octal_rep = \"\"\n",
    "    while n > 0:\n",
    "        octal_rep = str(n & 7) + octal_rep  # Append the last 3 bits\n",
    "        n >>= 3  # Right shift by 3 bits\n",
    "    return octal_rep\n",
    "\n",
    "# Function to convert integer to hexadecimal representation\n",
    "def int_to_hexadecimal(n):\n",
    "    if n == 0:\n",
    "        return \"0\"\n",
    "    hex_rep = \"\"\n",
    "    hex_chars = \"0123456789ABCDEF\"\n",
    "    while n > 0:\n",
    "        hex_rep = hex_chars[n & 15] + hex_rep  # Append the last 4 bits\n",
    "        n >>= 4  # Right shift by 4 bits\n",
    "    return hex_rep\n",
    "\n",
    "# Prompt the user for an integer input\n",
    "number = int(input(\"Enter an integer: \"))\n",
    "\n",
    "# Convert and display the number in different bases\n",
    "binary_representation = int_to_binary(number)\n",
    "octal_representation = int_to_octal(number)\n",
    "hexadecimal_representation = int_to_hexadecimal(number)\n",
    "\n",
    "print(f\"Binary representation: {binary_representation}\")\n",
    "print(f\"Octal representation: {octal_representation}\")\n",
    "print(f\"Hexadecimal representation: {hexadecimal_representation}\")\n"
   ]
  },
  {
   "cell_type": "code",
   "execution_count": null,
   "id": "e23dd8da-20e2-4d7d-bcb3-23f1538c73c9",
   "metadata": {},
   "outputs": [],
   "source": []
  }
 ],
 "metadata": {
  "kernelspec": {
   "display_name": "Python 3 (ipykernel)",
   "language": "python",
   "name": "python3"
  },
  "language_info": {
   "codemirror_mode": {
    "name": "ipython",
    "version": 3
   },
   "file_extension": ".py",
   "mimetype": "text/x-python",
   "name": "python",
   "nbconvert_exporter": "python",
   "pygments_lexer": "ipython3",
   "version": "3.12.5"
  }
 },
 "nbformat": 4,
 "nbformat_minor": 5
}
