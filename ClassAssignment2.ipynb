{
  "cells": [
    {
      "cell_type": "markdown",
      "metadata": {
        "id": "SKTufFFzoKGi"
      },
      "source": [
        "# **Vivek Ranjan 590016155 Class Assignment**"
      ]
    },
    {
      "cell_type": "markdown",
      "metadata": {
        "id": "yxnin-ZXoQv6"
      },
      "source": [
        "### *Question: WAP with 2 functions: 1) Takes n inputs and returns data entered by the user as a list. Values should be integer only. Use either input n, or use stop input, or use map. 2) Function that takes 1 input arguement, a list. Compute SUM, AVG, MIN, MAX and CUMULATIVE SUM. NOW USE BOTH THESE FUNCTIONS TOGETHER.*"
      ]
    },
    {
      "cell_type": "code",
      "execution_count": 2,
      "metadata": {
        "colab": {
          "base_uri": "https://localhost:8080/"
        },
        "id": "cUBxqEuLpCXa",
        "outputId": "7ccca1e4-f541-4ba8-c5dd-592d71112313"
      },
      "outputs": [
        {
          "name": "stdout",
          "output_type": "stream",
          "text": [
            "List Entered: [1, 2, 3, 4, 5]\n",
            "Sum: 15\n",
            "Average: 3.0\n",
            "Minimum: 1\n",
            "Maximum: 5\n",
            "Cumulative Sum: [1, 3, 6, 10, 15]\n"
          ]
        }
      ],
      "source": [
        "def convert_to_list():\n",
        "  while True:\n",
        "    user_input = input(\"Enter Integers Separated by Space: \")\n",
        "    try:\n",
        "      mylist = list(map(int, user_input.split()))\n",
        "      print(f\"List Entered: {mylist}\")\n",
        "      break\n",
        "    except:\n",
        "      print(\"Check your input again and try again.\")\n",
        "  return mylist\n",
        "\n",
        "def list_operations(mylist):\n",
        "    return sum(mylist), sum(mylist)/len(mylist) if mylist else 0, min(mylist), max(mylist), calculate_cumulative_sum(mylist)\n",
        "\n",
        "def calculate_cumulative_sum(mylist):\n",
        "    cumulative_sum = []\n",
        "    total = 0\n",
        "    for num in mylist:\n",
        "        total += num\n",
        "        cumulative_sum.append(total)\n",
        "    return cumulative_sum\n",
        "\n",
        "def main():\n",
        "  mylist = convert_to_list()\n",
        "  a,b,c,d,e = list_operations(mylist)\n",
        "  print(f\"Sum: {a}\")\n",
        "  print(f\"Average: {b}\")\n",
        "  print(f\"Minimum: {c}\")\n",
        "  print(f\"Maximum: {d}\")\n",
        "  print(f\"Cumulative Sum: {e}\")\n",
        "\n",
        "main()"
      ]
    }
  ],
  "metadata": {
    "colab": {
      "provenance": []
    },
    "kernelspec": {
      "display_name": "Python 3",
      "name": "python3"
    },
    "language_info": {
      "codemirror_mode": {
        "name": "ipython",
        "version": 3
      },
      "file_extension": ".py",
      "mimetype": "text/x-python",
      "name": "python",
      "nbconvert_exporter": "python",
      "pygments_lexer": "ipython3",
      "version": "3.12.5"
    }
  },
  "nbformat": 4,
  "nbformat_minor": 0
}
